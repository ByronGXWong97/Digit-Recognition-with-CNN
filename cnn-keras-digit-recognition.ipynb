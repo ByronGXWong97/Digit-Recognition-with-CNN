{
 "cells": [
  {
   "cell_type": "markdown",
   "metadata": {
    "papermill": {
     "duration": 0.018244,
     "end_time": "2020-09-12T18:03:30.683469",
     "exception": false,
     "start_time": "2020-09-12T18:03:30.665225",
     "status": "completed"
    },
    "tags": []
   },
   "source": [
    "# Kaggle Project: Digit Recognition using Convolutional Neural Networks\n",
    "The goal of this project is to recognize digits (0-9) using a training set of 42,000 handwritten images from the MNIST dataset.  To achieve this objective, I built a convolutional neural network (CNN) using Keras.\n",
    "\n",
    "# Acknowledgements\n",
    "https://www.kaggle.com/kshitijkarnawat/basic-3-layer-neural-network\n",
    "\n",
    "https://www.kaggle.com/kanncaa1/convolutional-neural-network-cnn-tutorial\n"
   ]
  },
  {
   "cell_type": "markdown",
   "metadata": {
    "papermill": {
     "duration": 0.016562,
     "end_time": "2020-09-12T18:03:30.717016",
     "exception": false,
     "start_time": "2020-09-12T18:03:30.700454",
     "status": "completed"
    },
    "tags": []
   },
   "source": [
    "# 1) Import libraries and packages"
   ]
  },
  {
   "cell_type": "code",
   "execution_count": 1,
   "metadata": {
    "_cell_guid": "b1076dfc-b9ad-4769-8c92-a6c4dae69d19",
    "_uuid": "8f2839f25d086af736a60e9eeb907d3b93b6e0e5",
    "execution": {
     "iopub.execute_input": "2020-09-12T18:03:30.773201Z",
     "iopub.status.busy": "2020-09-12T18:03:30.767666Z",
     "iopub.status.idle": "2020-09-12T18:03:40.330713Z",
     "shell.execute_reply": "2020-09-12T18:03:40.329814Z"
    },
    "papermill": {
     "duration": 9.595881,
     "end_time": "2020-09-12T18:03:40.330861",
     "exception": false,
     "start_time": "2020-09-12T18:03:30.734980",
     "status": "completed"
    },
    "tags": []
   },
   "outputs": [
    {
     "name": "stdout",
     "output_type": "stream",
     "text": [
      "/kaggle/input/digit-recognizer/sample_submission.csv\n",
      "/kaggle/input/digit-recognizer/test.csv\n",
      "/kaggle/input/digit-recognizer/train.csv\n"
     ]
    }
   ],
   "source": [
    "# This Python 3 environment comes with many helpful analytics libraries installed\n",
    "# It is defined by the kaggle/python Docker image: https://github.com/kaggle/docker-python\n",
    "# For example, here's several helpful packages to load\n",
    "\n",
    "import numpy as np # linear algebra\n",
    "import pandas as pd # data processing, CSV file I/O (e.g. pd.read_csv)\n",
    "\n",
    "# Input data files are available in the read-only \"../input/\" directory\n",
    "# For example, running this (by clicking run or pressing Shift+Enter) will list all files under the input directory\n",
    "\n",
    "import os\n",
    "for dirname, _, filenames in os.walk('/kaggle/input'):\n",
    "    for filename in filenames:\n",
    "        print(os.path.join(dirname, filename))\n",
    "\n",
    "# You can write up to 5GB to the current directory (/kaggle/working/) that gets preserved as output when you create a version using \"Save & Run All\" \n",
    "# You can also write temporary files to /kaggle/temp/, but they won't be saved outside of the current session\n",
    "\n",
    "import numpy as np\n",
    "import pandas as pd\n",
    "import seaborn as sns\n",
    "import sklearn\n",
    "from sklearn.model_selection import train_test_split\n",
    "from sklearn.metrics import confusion_matrix, accuracy_score\n",
    "import keras\n",
    "import tensorflow as tf\n",
    "from keras import layers\n",
    "from keras.layers import Input, Dense, Activation, ZeroPadding2D, BatchNormalization, Flatten, Conv2D\n",
    "from keras.layers import MaxPool2D, Dropout\n",
    "from keras.models import Model, Sequential\n",
    "from keras.preprocessing import image\n",
    "from keras.utils import layer_utils\n",
    "from keras.utils.data_utils import get_file\n",
    "from keras.applications.imagenet_utils import preprocess_input\n",
    "import pydot\n",
    "from IPython.display import SVG\n",
    "from keras.utils.vis_utils import model_to_dot\n",
    "from keras.utils import plot_model\n",
    "from keras.utils.np_utils import to_categorical\n",
    "from keras.optimizers import RMSprop,Adam\n",
    "\n",
    "import matplotlib.pyplot as plt\n",
    "from matplotlib.pyplot import imshow\n",
    "\n",
    "%matplotlib inline"
   ]
  },
  {
   "cell_type": "markdown",
   "metadata": {
    "papermill": {
     "duration": 0.020138,
     "end_time": "2020-09-12T18:03:40.369595",
     "exception": false,
     "start_time": "2020-09-12T18:03:40.349457",
     "status": "completed"
    },
    "tags": []
   },
   "source": [
    "# 2) Load datasets"
   ]
  },
  {
   "cell_type": "code",
   "execution_count": 2,
   "metadata": {
    "_cell_guid": "79c7e3d0-c299-4dcb-8224-4455121ee9b0",
    "_uuid": "d629ff2d2480ee46fbb7e2d37f6b5fab8052498a",
    "execution": {
     "iopub.execute_input": "2020-09-12T18:03:40.433130Z",
     "iopub.status.busy": "2020-09-12T18:03:40.432303Z",
     "iopub.status.idle": "2020-09-12T18:03:47.094081Z",
     "shell.execute_reply": "2020-09-12T18:03:47.093315Z"
    },
    "papermill": {
     "duration": 6.706254,
     "end_time": "2020-09-12T18:03:47.094218",
     "exception": false,
     "start_time": "2020-09-12T18:03:40.387964",
     "status": "completed"
    },
    "tags": []
   },
   "outputs": [],
   "source": [
    "train = pd.read_csv(\"/kaggle/input/digit-recognizer/train.csv\")\n",
    "X_train = train.drop(\"label\",axis=1)\n",
    "y_train = train[\"label\"]\n",
    "X_test = pd.read_csv(\"/kaggle/input/digit-recognizer/test.csv\")"
   ]
  },
  {
   "cell_type": "code",
   "execution_count": 3,
   "metadata": {
    "execution": {
     "iopub.execute_input": "2020-09-12T18:03:47.142693Z",
     "iopub.status.busy": "2020-09-12T18:03:47.141739Z",
     "iopub.status.idle": "2020-09-12T18:03:47.146789Z",
     "shell.execute_reply": "2020-09-12T18:03:47.147519Z"
    },
    "papermill": {
     "duration": 0.035038,
     "end_time": "2020-09-12T18:03:47.147710",
     "exception": false,
     "start_time": "2020-09-12T18:03:47.112672",
     "status": "completed"
    },
    "tags": []
   },
   "outputs": [
    {
     "data": {
      "text/plain": [
       "(42000, 784)"
      ]
     },
     "execution_count": 3,
     "metadata": {},
     "output_type": "execute_result"
    }
   ],
   "source": [
    "# Explore the shape of the training set. There are 42000 observations with 784 features (28x28) and a label\n",
    "X_train.shape"
   ]
  },
  {
   "cell_type": "markdown",
   "metadata": {
    "papermill": {
     "duration": 0.020406,
     "end_time": "2020-09-12T18:03:47.195691",
     "exception": false,
     "start_time": "2020-09-12T18:03:47.175285",
     "status": "completed"
    },
    "tags": []
   },
   "source": [
    "# 3) Exploratory data analysis"
   ]
  },
  {
   "cell_type": "code",
   "execution_count": 4,
   "metadata": {
    "execution": {
     "iopub.execute_input": "2020-09-12T18:03:47.246678Z",
     "iopub.status.busy": "2020-09-12T18:03:47.245877Z",
     "iopub.status.idle": "2020-09-12T18:03:47.560144Z",
     "shell.execute_reply": "2020-09-12T18:03:47.559278Z"
    },
    "papermill": {
     "duration": 0.343923,
     "end_time": "2020-09-12T18:03:47.560284",
     "exception": false,
     "start_time": "2020-09-12T18:03:47.216361",
     "status": "completed"
    },
    "tags": []
   },
   "outputs": [
    {
     "data": {
      "image/png": "[encoded data removed]",
      "text/plain": [
       "<Figure size 432x288 with 1 Axes>"
      ]
     },
     "metadata": {
      "needs_background": "light"
     },
     "output_type": "display_data"
    }
   ],
   "source": [
    "# Plot barchart to visualize distribution of digits in the labelled data\n",
    "# The distribution of digits is fairly uniform\n",
    "sns.set_palette(\"pastel\")\n",
    "ax = sns.barplot(train['label'].value_counts().index, train['label'].value_counts()/len(train))\n",
    "ax.set_title(\"Distribution of digits in labelled data\")\n",
    "ax.set_ylabel(\"Percentage\")\n",
    "ax.set_xlabel(\"Digit\")\n",
    "sns.despine();"
   ]
  },
  {
   "cell_type": "code",
   "execution_count": 5,
   "metadata": {
    "execution": {
     "iopub.execute_input": "2020-09-12T18:03:47.617136Z",
     "iopub.status.busy": "2020-09-12T18:03:47.615783Z",
     "iopub.status.idle": "2020-09-12T18:03:47.691592Z",
     "shell.execute_reply": "2020-09-12T18:03:47.690696Z"
    },
    "papermill": {
     "duration": 0.109463,
     "end_time": "2020-09-12T18:03:47.691778",
     "exception": false,
     "start_time": "2020-09-12T18:03:47.582315",
     "status": "completed"
    },
    "tags": []
   },
   "outputs": [
    {
     "data": {
      "image/png": "[encoded data removed]",
      "text/plain": [
       "<Figure size 432x288 with 1 Axes>"
      ]
     },
     "metadata": {
      "needs_background": "light"
     },
     "output_type": "display_data"
    }
   ],
   "source": [
    "# This function plots the image of a particular value in the training set\n",
    "def plot_image(id):\n",
    "    img = X_train.iloc[id].values\n",
    "    img = img.reshape((28,28))\n",
    "    plt.imshow(img,cmap='gray')\n",
    "    plt.title(train.iloc[id,0])\n",
    "    plt.axis(\"off\")\n",
    "    plt.show()\n",
    "\n",
    "# Change the argument of the function to visualize other numbers\n",
    "plot_image(19)"
   ]
  },
  {
   "cell_type": "markdown",
   "metadata": {
    "papermill": {
     "duration": 0.022423,
     "end_time": "2020-09-12T18:03:47.734918",
     "exception": false,
     "start_time": "2020-09-12T18:03:47.712495",
     "status": "completed"
    },
    "tags": []
   },
   "source": [
    "# 4) Build CNN model using Keras"
   ]
  },
  {
   "cell_type": "code",
   "execution_count": 6,
   "metadata": {
    "execution": {
     "iopub.execute_input": "2020-09-12T18:03:47.792146Z",
     "iopub.status.busy": "2020-09-12T18:03:47.790561Z",
     "iopub.status.idle": "2020-09-12T18:03:48.075769Z",
     "shell.execute_reply": "2020-09-12T18:03:48.074633Z"
    },
    "papermill": {
     "duration": 0.317043,
     "end_time": "2020-09-12T18:03:48.075947",
     "exception": false,
     "start_time": "2020-09-12T18:03:47.758904",
     "status": "completed"
    },
    "tags": []
   },
   "outputs": [],
   "source": [
    "# We split the data with labels into training set and validation set\n",
    "# 95% of data in training set, 5% in hold-out validation set\n",
    "X_train, X_val, y_train, y_val = train_test_split(X_train, y_train, test_size = 0.05, random_state=2)"
   ]
  },
  {
   "cell_type": "code",
   "execution_count": 7,
   "metadata": {
    "execution": {
     "iopub.execute_input": "2020-09-12T18:03:48.142857Z",
     "iopub.status.busy": "2020-09-12T18:03:48.128346Z",
     "iopub.status.idle": "2020-09-12T18:03:48.252280Z",
     "shell.execute_reply": "2020-09-12T18:03:48.251381Z"
    },
    "papermill": {
     "duration": 0.154088,
     "end_time": "2020-09-12T18:03:48.252453",
     "exception": false,
     "start_time": "2020-09-12T18:03:48.098365",
     "status": "completed"
    },
    "tags": []
   },
   "outputs": [],
   "source": [
    "# Perform feature normalisation by dividing all values by 255 to get decimal values between 0 and 1\n",
    "# Activation functions tend to work better with values between 0 and 1\n",
    "X_train/=255\n",
    "X_val/=255\n",
    "X_test/=255"
   ]
  },
  {
   "cell_type": "code",
   "execution_count": 8,
   "metadata": {
    "execution": {
     "iopub.execute_input": "2020-09-12T18:03:48.307870Z",
     "iopub.status.busy": "2020-09-12T18:03:48.306675Z",
     "iopub.status.idle": "2020-09-12T18:03:48.310906Z",
     "shell.execute_reply": "2020-09-12T18:03:48.310172Z"
    },
    "papermill": {
     "duration": 0.035025,
     "end_time": "2020-09-12T18:03:48.311055",
     "exception": false,
     "start_time": "2020-09-12T18:03:48.276030",
     "status": "completed"
    },
    "tags": []
   },
   "outputs": [],
   "source": [
    "# Reshape the X values. The 784 features attributed to each observation is converted to 28x28x1\n",
    "X_train=X_train.values.reshape(-1,28,28,1)\n",
    "X_val=X_val.values.reshape(-1,28,28,1)\n",
    "X_test=X_test.values.reshape(-1,28,28,1)"
   ]
  },
  {
   "cell_type": "code",
   "execution_count": 9,
   "metadata": {
    "execution": {
     "iopub.execute_input": "2020-09-12T18:03:48.375139Z",
     "iopub.status.busy": "2020-09-12T18:03:48.371832Z",
     "iopub.status.idle": "2020-09-12T18:03:48.746054Z",
     "shell.execute_reply": "2020-09-12T18:03:48.745088Z"
    },
    "papermill": {
     "duration": 0.412085,
     "end_time": "2020-09-12T18:03:48.746213",
     "exception": false,
     "start_time": "2020-09-12T18:03:48.334128",
     "status": "completed"
    },
    "tags": []
   },
   "outputs": [],
   "source": [
    "#### Build Convolutional Neural Network using Keras\n",
    "# # Objective of zero padding is to pad the border of the input with zeroes so as not to lose information at the edges of the image\n",
    "# Batch normalization helps to accelerate the learning process by adjusting and scaling the activations\n",
    "# Max Pooling helps to reduce the size of the representation, thereby speeding up learning process\n",
    "# Dropout Regularization helps to reduce overfitting (randomly selected neurons are ignored during training)\n",
    "model = Sequential()\n",
    "\n",
    "\n",
    "# Conv --> Batch Norm --> ReLU --> MaxPool --> Dropout \n",
    "model.add(Conv2D(filters = 16, kernel_size = (5,5),padding = 'Same', \n",
    "                 input_shape = (28,28,1)))\n",
    "model.add(BatchNormalization(axis=3))\n",
    "model.add(Activation('relu'))\n",
    "model.add(MaxPool2D(pool_size=(2,2)))\n",
    "model.add(Dropout(0.25))\n",
    "\n",
    "# Conv --> Batch Norm --> ReLU --> MaxPool --> Dropout \n",
    "model.add(Conv2D(filters = 32, kernel_size = (3,3),padding = 'Same'))\n",
    "model.add(BatchNormalization(axis=3))\n",
    "model.add(Activation('relu'))\n",
    "model.add(MaxPool2D(pool_size=(2,2), strides=(2,2)))\n",
    "model.add(Dropout(0.25))\n",
    "\n",
    "# Convert to vector\n",
    "model.add(Flatten())\n",
    "\n",
    "# Fully connected layers\n",
    "model.add(Dense(784, activation = \"relu\"))\n",
    "model.add(Dropout(0.25))\n",
    "model.add(Dense(256, activation = \"relu\"))\n",
    "model.add(Dropout(0.25))\n",
    "model.add(Dense(64, activation = \"relu\"))\n",
    "model.add(Dropout(0.25))\n",
    "model.add(Dense(10, activation = \"softmax\"))"
   ]
  },
  {
   "cell_type": "code",
   "execution_count": 10,
   "metadata": {
    "execution": {
     "iopub.execute_input": "2020-09-12T18:03:48.807773Z",
     "iopub.status.busy": "2020-09-12T18:03:48.806949Z",
     "iopub.status.idle": "2020-09-12T18:18:02.384793Z",
     "shell.execute_reply": "2020-09-12T18:18:02.384097Z"
    },
    "papermill": {
     "duration": 853.61527,
     "end_time": "2020-09-12T18:18:02.384953",
     "exception": false,
     "start_time": "2020-09-12T18:03:48.769683",
     "status": "completed"
    },
    "tags": []
   },
   "outputs": [
    {
     "name": "stdout",
     "output_type": "stream",
     "text": [
      "Epoch 1/20\n",
      "1247/1247 [==============================] - 42s 33ms/step - loss: 0.4143 - accuracy: 0.8683\n",
      "Epoch 2/20\n",
      "1247/1247 [==============================] - 42s 33ms/step - loss: 0.1321 - accuracy: 0.9641\n",
      "Epoch 3/20\n",
      "1247/1247 [==============================] - 41s 33ms/step - loss: 0.1022 - accuracy: 0.9732\n",
      "Epoch 4/20\n",
      "1247/1247 [==============================] - 46s 37ms/step - loss: 0.0852 - accuracy: 0.9775\n",
      "Epoch 5/20\n",
      "1247/1247 [==============================] - 42s 34ms/step - loss: 0.0751 - accuracy: 0.9797\n",
      "Epoch 6/20\n",
      "1247/1247 [==============================] - 43s 35ms/step - loss: 0.0678 - accuracy: 0.9826\n",
      "Epoch 7/20\n",
      "1247/1247 [==============================] - 40s 32ms/step - loss: 0.0609 - accuracy: 0.9832\n",
      "Epoch 8/20\n",
      "1247/1247 [==============================] - 40s 32ms/step - loss: 0.0569 - accuracy: 0.9846\n",
      "Epoch 9/20\n",
      "1247/1247 [==============================] - 42s 33ms/step - loss: 0.0513 - accuracy: 0.9861\n",
      "Epoch 10/20\n",
      "1247/1247 [==============================] - 43s 34ms/step - loss: 0.0488 - accuracy: 0.9859\n",
      "Epoch 11/20\n",
      "1247/1247 [==============================] - 42s 33ms/step - loss: 0.0479 - accuracy: 0.9867\n",
      "Epoch 12/20\n",
      "1247/1247 [==============================] - 48s 38ms/step - loss: 0.0434 - accuracy: 0.9876\n",
      "Epoch 13/20\n",
      "1247/1247 [==============================] - 43s 35ms/step - loss: 0.0420 - accuracy: 0.9890\n",
      "Epoch 14/20\n",
      "1247/1247 [==============================] - 40s 32ms/step - loss: 0.0358 - accuracy: 0.9902\n",
      "Epoch 15/20\n",
      "1247/1247 [==============================] - 40s 32ms/step - loss: 0.0376 - accuracy: 0.9894\n",
      "Epoch 16/20\n",
      "1247/1247 [==============================] - 40s 32ms/step - loss: 0.0363 - accuracy: 0.9898\n",
      "Epoch 17/20\n",
      "1247/1247 [==============================] - 42s 33ms/step - loss: 0.0363 - accuracy: 0.9905\n",
      "Epoch 18/20\n",
      "1247/1247 [==============================] - 43s 35ms/step - loss: 0.0329 - accuracy: 0.9907\n",
      "Epoch 19/20\n",
      "1247/1247 [==============================] - 46s 37ms/step - loss: 0.0338 - accuracy: 0.9907\n",
      "Epoch 20/20\n",
      "1247/1247 [==============================] - 49s 39ms/step - loss: 0.0276 - accuracy: 0.9923\n"
     ]
    },
    {
     "data": {
      "text/plain": [
       "<tensorflow.python.keras.callbacks.History at 0x7fdf10aa96d0>"
      ]
     },
     "execution_count": 10,
     "metadata": {},
     "output_type": "execute_result"
    }
   ],
   "source": [
    "# Compile the model\n",
    "# Since this is a multi-class classification problem, we use the categorical cross entropy loss function\n",
    "model.compile(optimizer = tf.optimizers.Adam(),\n",
    "              loss = 'sparse_categorical_crossentropy',\n",
    "              metrics=['accuracy'])\n",
    "\n",
    "# Fit the model on the training set\n",
    "model.fit(X_train, y_train, epochs=20)"
   ]
  },
  {
   "cell_type": "markdown",
   "metadata": {
    "papermill": {
     "duration": 5.380021,
     "end_time": "2020-09-12T18:18:13.263782",
     "exception": false,
     "start_time": "2020-09-12T18:18:07.883761",
     "status": "completed"
    },
    "tags": []
   },
   "source": [
    "# 5) Generate predictions on validation set and evaluate our model\n"
   ]
  },
  {
   "cell_type": "code",
   "execution_count": 11,
   "metadata": {
    "execution": {
     "iopub.execute_input": "2020-09-12T18:18:24.159186Z",
     "iopub.status.busy": "2020-09-12T18:18:24.156655Z",
     "iopub.status.idle": "2020-09-12T18:18:25.490367Z",
     "shell.execute_reply": "2020-09-12T18:18:25.489452Z"
    },
    "papermill": {
     "duration": 6.787658,
     "end_time": "2020-09-12T18:18:25.490512",
     "exception": false,
     "start_time": "2020-09-12T18:18:18.702854",
     "status": "completed"
    },
    "tags": []
   },
   "outputs": [
    {
     "data": {
      "image/png": "[encoded data removed]",
      "text/plain": [
       "<Figure size 576x576 with 2 Axes>"
      ]
     },
     "metadata": {
      "needs_background": "light"
     },
     "output_type": "display_data"
    }
   ],
   "source": [
    "# Predict the probabilities of each class\n",
    "val_predictions = model.predict(X_val)\n",
    "\n",
    "# For each training observation, identify the predicted class\n",
    "val_pred = np.argmax(val_predictions, axis = 1)\n",
    "\n",
    "# Generate confusion matrix\n",
    "confusion_mtx = confusion_matrix(y_val, val_pred) \n",
    "f,ax = plt.subplots(figsize=(8, 8))\n",
    "sns.heatmap(confusion_mtx, annot=True, linewidths=0.01, cmap=\"Blues\",linecolor=\"grey\", fmt= '.1f',ax=ax)\n",
    "plt.xlabel(\"Predicted Label\")\n",
    "plt.ylabel(\"True Label\")\n",
    "plt.title(\"Confusion Matrix\")\n",
    "plt.show()\n",
    "\n",
    "# We are reasonably happy with the model, with most images being classified correctly"
   ]
  },
  {
   "cell_type": "code",
   "execution_count": 12,
   "metadata": {
    "execution": {
     "iopub.execute_input": "2020-09-12T18:18:36.224017Z",
     "iopub.status.busy": "2020-09-12T18:18:36.223162Z",
     "iopub.status.idle": "2020-09-12T18:18:36.229322Z",
     "shell.execute_reply": "2020-09-12T18:18:36.228511Z"
    },
    "papermill": {
     "duration": 5.400923,
     "end_time": "2020-09-12T18:18:36.229456",
     "exception": false,
     "start_time": "2020-09-12T18:18:30.828533",
     "status": "completed"
    },
    "tags": []
   },
   "outputs": [
    {
     "name": "stdout",
     "output_type": "stream",
     "text": [
      "The accuracy score is 0.9928571428571429\n"
     ]
    }
   ],
   "source": [
    "# See accuracy score when tested on cross-validation set\n",
    "print(\"The accuracy score is \"+str(accuracy_score(y_val,val_pred)))"
   ]
  },
  {
   "cell_type": "markdown",
   "metadata": {
    "papermill": {
     "duration": 5.609212,
     "end_time": "2020-09-12T18:18:47.203272",
     "exception": false,
     "start_time": "2020-09-12T18:18:41.594060",
     "status": "completed"
    },
    "tags": []
   },
   "source": [
    "# 6) Generate predictions on test set"
   ]
  },
  {
   "cell_type": "code",
   "execution_count": 13,
   "metadata": {
    "execution": {
     "iopub.execute_input": "2020-09-12T18:18:58.129193Z",
     "iopub.status.busy": "2020-09-12T18:18:58.127927Z",
     "iopub.status.idle": "2020-09-12T18:19:05.881843Z",
     "shell.execute_reply": "2020-09-12T18:19:05.881177Z"
    },
    "papermill": {
     "duration": 13.269355,
     "end_time": "2020-09-12T18:19:05.881985",
     "exception": false,
     "start_time": "2020-09-12T18:18:52.612630",
     "status": "completed"
    },
    "tags": []
   },
   "outputs": [
    {
     "name": "stdout",
     "output_type": "stream",
     "text": [
      "[2 0 9 ... 3 9 2]\n"
     ]
    }
   ],
   "source": [
    "# Predict the probabilities of each class\n",
    "test_predictions = model.predict(X_test)\n",
    "\n",
    "# For each training observation, identify the predicted class\n",
    "test_pred = np.argmax(test_predictions, axis = 1)\n",
    "print(test_pred)"
   ]
  },
  {
   "cell_type": "code",
   "execution_count": 14,
   "metadata": {
    "execution": {
     "iopub.execute_input": "2020-09-12T18:19:16.611011Z",
     "iopub.status.busy": "2020-09-12T18:19:16.610185Z",
     "iopub.status.idle": "2020-09-12T18:19:16.969856Z",
     "shell.execute_reply": "2020-09-12T18:19:16.969102Z"
    },
    "papermill": {
     "duration": 5.708113,
     "end_time": "2020-09-12T18:19:16.969982",
     "exception": false,
     "start_time": "2020-09-12T18:19:11.261869",
     "status": "completed"
    },
    "tags": []
   },
   "outputs": [],
   "source": [
    "submission = pd.DataFrame({'ImageId':np.arange(1,28001),'Label':test_pred})\n",
    "submission.to_csv('submission.csv', index=False)"
   ]
  },
  {
   "cell_type": "code",
   "execution_count": null,
   "metadata": {
    "papermill": {
     "duration": 5.306601,
     "end_time": "2020-09-12T18:19:27.704499",
     "exception": false,
     "start_time": "2020-09-12T18:19:22.397898",
     "status": "completed"
    },
    "tags": []
   },
   "outputs": [],
   "source": []
  }
 ],
 "metadata": {
  "kernelspec": {
   "display_name": "Python 3",
   "language": "python",
   "name": "python3"
  },
  "language_info": {
   "codemirror_mode": {
    "name": "ipython",
    "version": 3
   },
   "file_extension": ".py",
   "mimetype": "text/x-python",
   "name": "python",
   "nbconvert_exporter": "python",
   "pygments_lexer": "ipython3",
   "version": "3.7.6"
  },
  "papermill": {
   "duration": 968.358298,
   "end_time": "2020-09-12T18:19:33.171441",
   "environment_variables": {},
   "exception": null,
   "input_path": "__notebook__.ipynb",
   "output_path": "__notebook__.ipynb",
   "parameters": {},
   "start_time": "2020-09-12T18:03:24.813143",
   "version": "2.1.0"
  }
 },
 "nbformat": 4,
 "nbformat_minor": 4
}
